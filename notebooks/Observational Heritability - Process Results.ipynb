{
 "cells": [
  {
   "cell_type": "code",
   "execution_count": 2,
   "metadata": {
    "collapsed": false
   },
   "outputs": [],
   "source": [
    "import os\n",
    "import sys\n",
    "import csv\n",
    "import math\n",
    "import gzip\n",
    "import numpy\n",
    "\n",
    "import seaborn as sns\n",
    "import matplotlib.pyplot as plt\n",
    "\n",
    "from scipy import stats\n",
    "from collections import defaultdict\n",
    "\n",
    "%matplotlib inline"
   ]
  },
  {
   "cell_type": "code",
   "execution_count": 2,
   "metadata": {
    "collapsed": true
   },
   "outputs": [],
   "source": [
    "pcutoff = 0.05\n",
    "edge_eps = 1e-9\n",
    "denoise_eps = 0.05\n",
    "min_posa = 0.7"
   ]
  },
  {
   "cell_type": "code",
   "execution_count": 3,
   "metadata": {
    "collapsed": false
   },
   "outputs": [],
   "source": [
    "# Load Trait Names\n",
    "trait_names = dict()\n",
    "\n",
    "reader = csv.reader(gzip.open('../data/loinc.csv.gz'))\n",
    "reader.next()\n",
    "for row in reader:\n",
    "    loinc = row[0]\n",
    "    name = row[1]\n",
    "    trait_names[loinc] = name\n",
    "\n",
    "reader = csv.reader(open('../data/ccs_icd9_map.txt'), delimiter='\\t')\n",
    "reader.next()\n",
    "for icd9, name, ccscat, ccshindex in reader:\n",
    "    trait_names[icd9] = name"
   ]
  },
  {
   "cell_type": "code",
   "execution_count": 4,
   "metadata": {
    "collapsed": true
   },
   "outputs": [],
   "source": [
    "trait_type = dict()"
   ]
  },
  {
   "cell_type": "code",
   "execution_count": 5,
   "metadata": {
    "collapsed": false
   },
   "outputs": [
    {
     "name": "stdout",
     "output_type": "stream",
     "text": [
      "../data/west_icd9_done_processed.csv.gz\n",
      "../data/west_icd9_rq1000_processed.csv.gz\n",
      "../data/west_lab_done_processed.csv.gz\n",
      "../data/west_lab_rq1000_processed.csv.gz\n"
     ]
    },
    {
     "data": {
      "text/plain": [
       "1494"
      ]
     },
     "execution_count": 5,
     "metadata": {},
     "output_type": "execute_result"
    }
   ],
   "source": [
    "# Load West Results\n",
    "west_files = ['../data/west_icd9_done_processed.csv.gz',\n",
    "              '../data/west_icd9_rq1000_processed.csv.gz',\n",
    "              '../data/west_lab_done_processed.csv.gz',\n",
    "              '../data/west_lab_rq1000_processed.csv.gz']\n",
    "\n",
    "west = defaultdict(lambda: defaultdict(list))\n",
    "\n",
    "for wf in west_files:\n",
    "    print wf\n",
    "    fh = gzip.open(wf)\n",
    "    reader = csv.reader(fh)\n",
    "    reader.next()\n",
    "    for row in reader:\n",
    "        if len(row) != 5:\n",
    "            print row\n",
    "            raise Exception(\"Formatting is incorrect.\")\n",
    "        \n",
    "        trait, nfam, h2, h2err, pval = row\n",
    "        if h2 == 'None' or h2err == 'None' or float(h2) < edge_eps or float(h2) > (1-edge_eps):\n",
    "            continue\n",
    "        \n",
    "        if float(h2err) < denoise_eps*float(h2):\n",
    "            continue\n",
    "        \n",
    "        nfam = int(nfam)\n",
    "        h2 = float(h2)\n",
    "        h2err = float(h2err)\n",
    "        pval = float(pval)\n",
    "        \n",
    "        west[trait][nfam].append({'h2': h2, 'error': h2err, 'pvalue': pval})\n",
    "        if 'lab' in wf:\n",
    "            trait_type[trait] = 'lab'\n",
    "        elif 'icd9' in wf:\n",
    "            trait_type[trait] = 'icd9'\n",
    "        else:\n",
    "            trait_type[trait] = 'quant'\n",
    "            \n",
    "\n",
    "len(west)"
   ]
  },
  {
   "cell_type": "code",
   "execution_count": 6,
   "metadata": {
    "collapsed": false
   },
   "outputs": [
    {
     "data": {
      "text/plain": [
       "801"
      ]
     },
     "execution_count": 6,
     "metadata": {},
     "output_type": "execute_result"
    }
   ],
   "source": [
    "west_posa = defaultdict(lambda: defaultdict(float))\n",
    "\n",
    "for trait in west.keys():\n",
    "    for nfam in west[trait].keys():\n",
    "        if len(west[trait][nfam]) > 30:\n",
    "            sig = [d['h2'] for d in west[trait][nfam] if d['pvalue'] <= pcutoff]\n",
    "            west_posa[trait][nfam] = float(len(sig))/float(len(west[trait][nfam]))\n",
    "\n",
    "len(west_posa)"
   ]
  },
  {
   "cell_type": "code",
   "execution_count": 7,
   "metadata": {
    "collapsed": false
   },
   "outputs": [],
   "source": [
    "# Save all results that pass Step 1 of QC for analysis and sharing purposes\n",
    "ofh = open('../results/h2o_columbia_pass1.txt', 'w')\n",
    "writer = csv.writer(ofh, delimiter='\\t')\n",
    "writer.writerow(['trait_type', 'trait', 'code', 'sampling_size', 'POSA', 'N_sig_h2s', 'h2o', 'h2o_solar_error', 'h2o_solar_pvalue', 'h2o_strap_lo', 'h2o_strap_hi'])\n",
    "\n",
    "for trait in west_posa.keys():\n",
    "    for nfam in west_posa[trait].keys():\n",
    "        if west_posa[trait][nfam] > 0.1: # we need some minimum POSA just so that the h2o can be consistently computed\n",
    "            h2s = [(d['h2'], d['error'], d['pvalue']) for d in west[trait][nfam] if d['pvalue'] <= pcutoff]\n",
    "            h2o, h2o_err, h2o_pval = sorted(h2s)[int(math.floor(len(h2s)/2.))]\n",
    "            h2o_strap_lo = numpy.percentile(zip(*h2s)[0], 2.5)\n",
    "            h2o_strap_hi = numpy.percentile(zip(*h2s)[0], 97.5)\n",
    "            writer.writerow([trait_type[trait], trait_names.get(trait, \"\"), trait, nfam, west_posa[trait][nfam], len(h2s), h2o, h2o_err, h2o_pval, h2o_strap_lo, h2o_strap_hi])\n",
    "\n",
    "ofh.close()"
   ]
  },
  {
   "cell_type": "code",
   "execution_count": 8,
   "metadata": {
    "collapsed": false
   },
   "outputs": [
    {
     "data": {
      "text/plain": [
       "216"
      ]
     },
     "execution_count": 8,
     "metadata": {},
     "output_type": "execute_result"
    }
   ],
   "source": [
    "# Step 2 of QC is to see if they pass our minimum POSA score\n",
    "west_traits = [t for t in west_posa.keys() if max(west_posa[t].values()) >= min_posa]\n",
    "\n",
    "# Now we save these data, these will be supplemental data files that are released\n",
    "ofh = open('../results/h2o_columbia_pass1_pass2.txt', 'w')\n",
    "writer = csv.writer(ofh, delimiter='\\t')\n",
    "writer.writerow(['trait_type', 'trait', 'code', 'sampling_size', 'POSA', 'N_sig_h2s', 'h2o', 'h2o_solar_error', 'h2o_solar_pvalue', 'h2o_strap_lo', 'h2o_strap_hi'])\n",
    "\n",
    "for trait in west_traits:\n",
    "    nfam = max([nfam for nfam in west[trait].keys() if west_posa[trait][nfam] >= min_posa])\n",
    "    h2s = [(d['h2'], d['error'], d['pvalue']) for d in west[trait][nfam] if d['pvalue'] <= pcutoff]\n",
    "    h2o, h2o_err, h2o_pval = sorted(h2s)[int(math.floor(len(h2s)/2.))]\n",
    "    h2o_strap_lo = numpy.percentile(zip(*h2s)[0], 2.5)\n",
    "    h2o_strap_hi = numpy.percentile(zip(*h2s)[0], 97.5)\n",
    "    writer.writerow([trait_type[trait], trait_names.get(trait, \"\"), trait, nfam, west_posa[trait][nfam], len(h2s), h2o, h2o_err, h2o_pval, h2o_strap_lo, h2o_strap_hi])\n",
    "\n",
    "\n",
    "ofh.close()\n",
    "\n",
    "len(west_traits)"
   ]
  },
  {
   "cell_type": "code",
   "execution_count": 9,
   "metadata": {
    "collapsed": false
   },
   "outputs": [
    {
     "name": "stdout",
     "output_type": "stream",
     "text": [
      "../data/east_icd9_done_processed.csv.gz\n",
      "../data/east_icd9_rq1000_processed.csv.gz\n",
      "../data/east_lab_done_processed.csv.gz\n",
      "../data/east_lab_rq1000_processed.csv.gz\n"
     ]
    },
    {
     "data": {
      "text/plain": [
       "1145"
      ]
     },
     "execution_count": 9,
     "metadata": {},
     "output_type": "execute_result"
    }
   ],
   "source": [
    "# Load East Results\n",
    "east_files = ['../data/east_icd9_done_processed.csv.gz',\n",
    "              '../data/east_icd9_rq1000_processed.csv.gz',\n",
    "              '../data/east_lab_done_processed.csv.gz',\n",
    "              '../data/east_lab_rq1000_processed.csv.gz']\n",
    "\n",
    "east = defaultdict(lambda: defaultdict(list))\n",
    "\n",
    "for ef in east_files:\n",
    "    print ef\n",
    "    fh = gzip.open(ef)\n",
    "    reader = csv.reader(fh)\n",
    "    reader.next()\n",
    "    for row in reader:\n",
    "        if len(row) != 5:\n",
    "            print row\n",
    "            raise Exception(\"Formatting is incorrect.\")\n",
    "        \n",
    "        trait, nfam, h2, h2err, pval = row\n",
    "        if h2 == 'None' or h2err == 'None' or float(h2) < edge_eps or float(h2) > (1-edge_eps):\n",
    "            continue\n",
    "        \n",
    "        if float(h2err) < denoise_eps*float(h2):\n",
    "            continue\n",
    "        \n",
    "        nfam = int(nfam)\n",
    "        h2 = float(h2)\n",
    "        h2err = float(h2err)\n",
    "        pval = float(pval)\n",
    "        \n",
    "        east[trait][nfam].append({'h2': h2, 'error': h2err, 'pvalue': pval})\n",
    "        if 'lab' in ef:\n",
    "            trait_type[trait] = 'lab'\n",
    "        else:\n",
    "            trait_type[trait] = 'icd9'\n",
    "len(east)"
   ]
  },
  {
   "cell_type": "code",
   "execution_count": 10,
   "metadata": {
    "collapsed": false
   },
   "outputs": [
    {
     "data": {
      "text/plain": [
       "719"
      ]
     },
     "execution_count": 10,
     "metadata": {},
     "output_type": "execute_result"
    }
   ],
   "source": [
    "east_posa = defaultdict(lambda: defaultdict(float))\n",
    "\n",
    "for trait in east.keys():\n",
    "    for nfam in east[trait].keys():\n",
    "        if len(east[trait][nfam]) > 30:\n",
    "            sig = [d['h2'] for d in east[trait][nfam] if d['pvalue'] <= pcutoff]\n",
    "            east_posa[trait][nfam] = float(len(sig))/float(len(east[trait][nfam]))\n",
    "\n",
    "len(east_posa)"
   ]
  },
  {
   "cell_type": "code",
   "execution_count": 11,
   "metadata": {
    "collapsed": false
   },
   "outputs": [],
   "source": [
    "# Save all results that pass Step 1 of QC for analysis and sharing purposes\n",
    "ofh = open('../results/h2o_cornell_pass1.txt', 'w')\n",
    "writer = csv.writer(ofh, delimiter='\\t')\n",
    "writer.writerow(['trait_type', 'trait', 'code', 'sampling_size', 'POSA', 'N_sig_h2s', 'h2o', 'h2o_solar_error', 'h2o_solar_pvalue', 'h2o_strap_lo', 'h2o_strap_hi'])\n",
    "\n",
    "for trait in east_posa.keys():\n",
    "    for nfam in east_posa[trait].keys():\n",
    "        if east_posa[trait][nfam] > 0.1: # we need some minimum POSA just so that the h2o can be consistently computed\n",
    "            h2s = [(d['h2'], d['error'], d['pvalue']) for d in east[trait][nfam] if d['pvalue'] <= pcutoff]\n",
    "            h2o, h2o_err, h2o_pval = sorted(h2s)[int(math.floor(len(h2s)/2.))]\n",
    "            h2o_strap_lo = numpy.percentile(zip(*h2s)[0], 2.5)\n",
    "            h2o_strap_hi = numpy.percentile(zip(*h2s)[0], 97.5)\n",
    "            writer.writerow([trait_type[trait], trait_names.get(trait, \"\"), trait, nfam, east_posa[trait][nfam], len(h2s), h2o, h2o_err, h2o_pval, h2o_strap_lo, h2o_strap_hi])\n",
    "\n",
    "ofh.close()"
   ]
  },
  {
   "cell_type": "code",
   "execution_count": 12,
   "metadata": {
    "collapsed": false
   },
   "outputs": [
    {
     "data": {
      "text/plain": [
       "160"
      ]
     },
     "execution_count": 12,
     "metadata": {},
     "output_type": "execute_result"
    }
   ],
   "source": [
    "# Step 2 of QC is to see if they pass our minimum POSA score\n",
    "east_traits = [t for t in east_posa.keys() if max(east_posa[t].values()) >= min_posa]\n",
    "\n",
    "# Now we save these data, these will be supplemental data files that are released\n",
    "ofh = open('../results/h2o_cornell_pass1_pass2.txt', 'w')\n",
    "writer = csv.writer(ofh, delimiter='\\t')\n",
    "writer.writerow(['trait_type', 'trait', 'code', 'sampling_size', 'POSA', 'N_sig_h2s', 'h2o', 'h2o_solar_error', 'h2o_solar_pvalue', 'h2o_strap_lo', 'h2o_strap_hi'])\n",
    "\n",
    "for trait in east_traits:\n",
    "    nfam = max([nfam for nfam in east[trait].keys() if east_posa[trait][nfam] >= min_posa])\n",
    "    h2s = [(d['h2'], d['error'], d['pvalue']) for d in east[trait][nfam] if d['pvalue'] <= pcutoff]\n",
    "    h2o, h2o_err, h2o_pval = sorted(h2s)[int(math.floor(len(h2s)/2.))]\n",
    "    h2o_strap_lo = numpy.percentile(zip(*h2s)[0], 2.5)\n",
    "    h2o_strap_hi = numpy.percentile(zip(*h2s)[0], 97.5)\n",
    "    writer.writerow([trait_type[trait], trait_names.get(trait, \"\"), trait, nfam, east_posa[trait][nfam], len(h2s), h2o, h2o_err, h2o_pval, h2o_strap_lo, h2o_strap_hi])\n",
    "\n",
    "ofh.close()\n",
    "\n",
    "len(east_traits)"
   ]
  },
  {
   "cell_type": "code",
   "execution_count": 13,
   "metadata": {
    "collapsed": false
   },
   "outputs": [
    {
     "data": {
      "text/plain": [
       "(727, (0.30707176315616025, 2.4370219331940458e-17))"
      ]
     },
     "execution_count": 13,
     "metadata": {},
     "output_type": "execute_result"
    },
    {
     "data": {
      "image/png": "[encoded data removed]",
      "text/plain": [
       "<matplotlib.figure.Figure at 0x10bedf910>"
      ]
     },
     "metadata": {},
     "output_type": "display_data"
    }
   ],
   "source": [
    "# Pass Step 1 of QC at both sites\n",
    "common_traits = sorted(set(east) & set(west))\n",
    "\n",
    "x_west = list()\n",
    "y_east = list()\n",
    "for trait in common_traits:\n",
    "    nfam = max([nfam for nfam in west[trait].keys()])\n",
    "    h2o = numpy.median([d['h2'] for d in west[trait][nfam]])\n",
    "    x_west.append(h2o)\n",
    "    \n",
    "    nfam = max([nfam for nfam in east[trait].keys()])\n",
    "    h2o = numpy.median([d['h2'] for d in east[trait][nfam]])\n",
    "    y_east.append(h2o)\n",
    "\n",
    "plt.scatter(x_west, y_east)\n",
    "len(common_traits), stats.pearsonr(x_west, y_east)\n"
   ]
  },
  {
   "cell_type": "code",
   "execution_count": 14,
   "metadata": {
    "collapsed": false
   },
   "outputs": [
    {
     "name": "stdout",
     "output_type": "stream",
     "text": [
      "(0.69225107664789487, 1.4748164881495593e-06) LinregressResult(slope=0.92879393041618719, intercept=0.055436776750731387, rvalue=0.69225107664789487, pvalue=1.4748164881495614e-06, stderr=0.16137458895800458) 38\n",
      "(0.63598195278240843, 1.5561325081290001e-06) LinregressResult(slope=0.71628891603869216, intercept=0.093757104979967615, rvalue=0.63598195278240854, pvalue=1.5561325081289915e-06, stderr=0.12956505809901508) 47\n"
     ]
    },
    {
     "data": {
      "image/png": "[encoded data removed]",
      "text/plain": [
       "<matplotlib.figure.Figure at 0x12d9c8e50>"
      ]
     },
     "metadata": {},
     "output_type": "display_data"
    }
   ],
   "source": [
    "# Pass Step 1 and Step 2 of QC at Both Sites\n",
    "common_traits = sorted(set(east_traits) & set(west_traits))\n",
    "\n",
    "x_west = list()\n",
    "y_east = list()\n",
    "\n",
    "for trait in common_traits:\n",
    "    nfam = max([nfam for nfam in west[trait].keys() if west_posa[trait][nfam] >= min_posa])\n",
    "    h2s = [d['h2'] for d in west[trait][nfam] if d['pvalue'] <= pcutoff]\n",
    "    h2o = sorted(h2s)[int(math.floor(len(h2s)/2.))]\n",
    "    #h2o = numpy.median([d['h2'] for d in west[trait][nfam]])\n",
    "    x_west.append(h2o)\n",
    "    \n",
    "    nfam = max([nfam for nfam in east[trait].keys() if east_posa[trait][nfam] >= min_posa])\n",
    "    h2s = [d['h2'] for d in east[trait][nfam] if d['pvalue'] <= pcutoff]\n",
    "    h2o = sorted(h2s)[int(math.floor(len(h2s)/2.))]\n",
    "    #h2o = numpy.median([d['h2'] for d in east[trait][nfam]])\n",
    "    y_east.append(h2o)\n",
    "\n",
    "r, p = stats.pearsonr(x_west, y_east)\n",
    "N = len(common_traits)\n",
    "\n",
    "sns.set(style=\"ticks\", color_codes=True, font_scale=1.4)\n",
    "\n",
    "fig = plt.figure(figsize=(5,5))\n",
    "x = [x for x, t in zip(x_west, common_traits) if trait_type[t] == 'icd9']\n",
    "y = [y for y, t in zip(y_east, common_traits) if trait_type[t] == 'icd9']\n",
    "print stats.pearsonr(x,y), stats.linregress(x,y), len(x)\n",
    "ndiag = len(x)\n",
    "p1 = plt.scatter(x, y, color='k', s=40, c='k', marker='o', lw=2)\n",
    "\n",
    "x = [x for x, t in zip(x_west, common_traits) if trait_type[t] == 'lab']\n",
    "y = [y for y, t in zip(y_east, common_traits) if trait_type[t] == 'lab']\n",
    "print stats.pearsonr(x,y), stats.linregress(x,y), len(x)\n",
    "nlab = len(x)\n",
    "p2 = plt.scatter(x, y, color='k', s=50, c='white', marker='d', lw=2)\n",
    "\n",
    "plt.ylabel(u'$h_2^o$ from Cornell EHR')\n",
    "plt.xlabel(u'$h_2^o$ from Columbia EHR')\n",
    "plt.text(0.2, 0.03, u'$N=%d, r=%.2f, p=%.2e$' % (N, r, p), fontsize=14)\n",
    "\n",
    "plt.legend(['Dichotomous', 'Quantitative'], loc='upper left')\n",
    "\n",
    "sns.despine(trim=True)\n",
    "\n",
    "plt.savefig('../results/h2o_corelation_between_sites.pdf')"
   ]
  },
  {
   "cell_type": "code",
   "execution_count": 15,
   "metadata": {
    "collapsed": false
   },
   "outputs": [
    {
     "name": "stdout",
     "output_type": "stream",
     "text": [
      "0.3557882 0.4864183\n",
      "west 2089-1 vs 2085-9: Ttest_indResult(statistic=18.873470175338849, pvalue=5.3171248971954858e-41)\n",
      "0.24588215 0.4732172\n",
      "east 2089-1 vs 2085-9: Ttest_indResult(statistic=45.229513531243455, pvalue=6.2374126331123445e-159)\n"
     ]
    }
   ],
   "source": [
    "# HDL versus LDL\n",
    "traits = ['2089-1', '2085-9']\n",
    "\n",
    "trait = traits[0]\n",
    "nfam = max([nfam for nfam in west[trait].keys() if west_posa[trait][nfam] >= min_posa])\n",
    "h2s_t1 = [d['h2'] for d in west[trait][nfam] if d['pvalue'] <= pcutoff]\n",
    "\n",
    "trait = traits[1]\n",
    "nfam = max([nfam for nfam in west[trait].keys() if west_posa[trait][nfam] >= min_posa])\n",
    "h2s_t2 = [d['h2'] for d in west[trait][nfam] if d['pvalue'] <= pcutoff]\n",
    "\n",
    "print numpy.median(h2s_t1), numpy.median(h2s_t2)\n",
    "print \"west %s vs %s: %s\" % (traits[0], traits[1], stats.ttest_ind(h2s_t2, h2s_t1))\n",
    "\n",
    "trait = traits[0]\n",
    "nfam = max([nfam for nfam in east[trait].keys() if east_posa[trait][nfam] >= min_posa])\n",
    "h2s_t1 = [d['h2'] for d in east[trait][nfam] if d['pvalue'] <= pcutoff]\n",
    "\n",
    "trait = traits[1]\n",
    "nfam = max([nfam for nfam in east[trait].keys() if east_posa[trait][nfam] >= min_posa])\n",
    "h2s_t2 = [d['h2'] for d in east[trait][nfam] if d['pvalue'] <= pcutoff]\n",
    "\n",
    "print numpy.median(h2s_t1), numpy.median(h2s_t2)\n",
    "print \"east %s vs %s: %s\" % (traits[0], traits[1], stats.ttest_ind(h2s_t2, h2s_t1))\n"
   ]
  },
  {
   "cell_type": "code",
   "execution_count": 16,
   "metadata": {
    "collapsed": false
   },
   "outputs": [
    {
     "name": "stdout",
     "output_type": "stream",
     "text": [
      "0.4282796 0.36118295\n",
      "west 278.00 vs 278.01: Ttest_indResult(statistic=-5.8795860215098887, pvalue=2.1424890662735081e-08)\n",
      "0.62754725 0.5125533\n",
      "east 278.00 vs 278.01: Ttest_indResult(statistic=-6.3119080368417659, pvalue=3.0740385724542014e-09)\n"
     ]
    }
   ],
   "source": [
    "# Obesity vs. Morbid Obesity\n",
    "traits = ['278.00', '278.01']\n",
    "\n",
    "trait = traits[0]\n",
    "nfam = max([nfam for nfam in west[trait].keys() if west_posa[trait][nfam] >= min_posa])\n",
    "h2s_t1 = [d['h2'] for d in west[trait][nfam] if d['pvalue'] <= pcutoff]\n",
    "\n",
    "trait = traits[1]\n",
    "nfam = max([nfam for nfam in west[trait].keys() if west_posa[trait][nfam] >= min_posa])\n",
    "h2s_t2 = [d['h2'] for d in west[trait][nfam] if d['pvalue'] <= pcutoff]\n",
    "\n",
    "print numpy.median(h2s_t1), numpy.median(h2s_t2)\n",
    "print \"west %s vs %s: %s\" % (traits[0], traits[1], stats.ttest_ind(h2s_t2, h2s_t1))\n",
    "\n",
    "trait = traits[0]\n",
    "nfam = max([nfam for nfam in east[trait].keys() if east_posa[trait][nfam] >= min_posa])\n",
    "h2s_t1 = [d['h2'] for d in east[trait][nfam] if d['pvalue'] <= pcutoff]\n",
    "\n",
    "trait = traits[1]\n",
    "nfam = max([nfam for nfam in east[trait].keys() if east_posa[trait][nfam] >= min_posa])\n",
    "h2s_t2 = [d['h2'] for d in east[trait][nfam] if d['pvalue'] <= pcutoff]\n",
    "\n",
    "print numpy.median(h2s_t1), numpy.median(h2s_t2)\n",
    "print \"east %s vs %s: %s\" % (traits[0], traits[1], stats.ttest_ind(h2s_t2, h2s_t1))\n",
    "\n"
   ]
  }
 ],
 "metadata": {
  "kernelspec": {
   "display_name": "Python 2",
   "language": "python",
   "name": "python2"
  },
  "language_info": {
   "codemirror_mode": {
    "name": "ipython",
    "version": 2
   },
   "file_extension": ".py",
   "mimetype": "text/x-python",
   "name": "python",
   "nbconvert_exporter": "python",
   "pygments_lexer": "ipython2",
   "version": "2.7.11"
  }
 },
 "nbformat": 4,
 "nbformat_minor": 0
}
