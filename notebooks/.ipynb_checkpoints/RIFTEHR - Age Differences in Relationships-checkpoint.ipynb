{
 "cells": [
  {
   "cell_type": "code",
   "execution_count": 2,
   "metadata": {
    "collapsed": false
   },
   "outputs": [],
   "source": [
    "import csv\n",
    "import gzip\n",
    "import time\n",
    "import numpy\n",
    "import random\n",
    "import operator\n",
    "from scipy import stats\n",
    "from collections import defaultdict\n",
    "\n",
    "import seaborn as sns\n",
    "import matplotlib.pyplot as plt\n",
    "\n",
    "%matplotlib inline"
   ]
  },
  {
   "cell_type": "code",
   "execution_count": 3,
   "metadata": {
    "collapsed": true
   },
   "outputs": [],
   "source": [
    "# muted/pastel red: #c35055\n",
    "# muted/pastel blue: #68b6cc\n",
    "# bright green: #4cc72c\n",
    "\n",
    "_colors = {'west': \"#3c87be\", \n",
    "           'east': \"#c21a24\",\n",
    "           'default': 'black',\n",
    "           'alternate': \"#4cc72c\",\n",
    "           'male': '#fdd32d',\n",
    "           'female': '#a05bd9',\n",
    "           'Black': \"#34495e\",\n",
    "           'White': \"#e74c3c\",\n",
    "           'Hispanic': \"#9b59b6\"}"
   ]
  },
  {
   "cell_type": "code",
   "execution_count": 6,
   "metadata": {
    "collapsed": false
   },
   "outputs": [],
   "source": [
    "fh = gzip.open('../data/age_differences_relationships_grouped_no_rare.csv.gz')\n",
    "reader = csv.reader(fh, delimiter='\\t')\n",
    "reader.next()\n",
    "west_rels = defaultdict(list)\n",
    "for rel, diff, count in reader:\n",
    "    rel = rel.strip()\n",
    "    diff = float(diff)\n",
    "    for _ in range(int(count)):\n",
    "        west_rels[rel].append(float(diff))\n",
    "west_rels = dict(west_rels)"
   ]
  },
  {
   "cell_type": "code",
   "execution_count": 7,
   "metadata": {
    "collapsed": false
   },
   "outputs": [],
   "source": [
    "fh = gzip.open('../data/east_age_differences_relationships_grouped_no_rare.csv.gz')\n",
    "reader = csv.reader(fh, delimiter='\\t')\n",
    "reader.next()\n",
    "east_rels = defaultdict(list)\n",
    "for rel, diff, count in reader:\n",
    "    rel = rel.strip()\n",
    "    diff = float(diff)\n",
    "    for _ in range(int(count)):\n",
    "        east_rels[rel].append(float(diff))\n",
    "east_rels = dict(east_rels)"
   ]
  },
  {
   "cell_type": "code",
   "execution_count": 8,
   "metadata": {
    "collapsed": false
   },
   "outputs": [
    {
     "name": "stdout",
     "output_type": "stream",
     "text": [
      "Grandchild 51701 22409\n",
      "Grandnephew/Grandniece 10059 2063\n",
      "Child 391397 262506\n",
      "Nephew/Niece 68674 24998\n",
      "Cousin 36500 7818\n",
      "Sibling 294192 169874\n",
      "Spouse 119659 102525\n",
      "First cousin once removed 9340 30\n",
      "Parent/Aunt/Uncle 9061 1314\n",
      "Aunt/Uncle 68674 24998\n",
      "Parent 391396 262506\n",
      "Grandaunt/Granduncle 11726 2523\n",
      "Grandparent 53698 22784\n",
      "Great-grandparent 4570 1010\n"
     ]
    },
    {
     "data": {
      "text/plain": [
       "14"
      ]
     },
     "execution_count": 8,
     "metadata": {},
     "output_type": "execute_result"
    }
   ],
   "source": [
    "common_relationships = set(west_rels.keys())&set(east_rels.keys())\n",
    "ordered_relationships = zip(*sorted([(numpy.median(west_rels[d]), d) for d in common_relationships]))[1]\n",
    "\n",
    "data = list()\n",
    "labels = list()\n",
    "\n",
    "for rel in ordered_relationships:\n",
    "    west_diffs = west_rels[rel]\n",
    "    east_diffs = east_rels[rel]\n",
    "    \n",
    "    if rel.find('in-law') != -1 or rel in ('Child/Nephew/Niece','Sibling/Cousin') or len(west_rels[rel]) < 3000:\n",
    "        continue\n",
    "    \n",
    "    print rel, len(west_diffs), len(east_diffs)\n",
    "    labels.append(rel)\n",
    "    data.append( east_diffs )\n",
    "    data.append( west_diffs )\n",
    "\n",
    "len(labels)"
   ]
  },
  {
   "cell_type": "code",
   "execution_count": 9,
   "metadata": {
    "collapsed": false
   },
   "outputs": [
    {
     "data": {
      "image/png": "[encoded data removed]",
      "text/plain": [
       "<matplotlib.figure.Figure at 0x1107cff50>"
      ]
     },
     "metadata": {},
     "output_type": "display_data"
    }
   ],
   "source": [
    "fig = plt.figure(figsize=(4,10))\n",
    "sns.set(style=\"ticks\", color_codes=True, font_scale=1.3, palette=\"muted\")\n",
    "\n",
    "group_width = 1/float(len(labels))\n",
    "group_positions = numpy.arange(0,1,group_width)\n",
    "group_padding = 0.15*group_width\n",
    "ingroup_padding = 0.05*group_width\n",
    "box_width = (group_width-group_padding*2-ingroup_padding)/2.0\n",
    "\n",
    "positions = list()\n",
    "\n",
    "for pos, rel in zip(group_positions, labels):\n",
    "    positions.append(pos + group_padding)\n",
    "    positions.append(pos + group_padding + box_width + ingroup_padding)\n",
    "\n",
    "box = plt.boxplot(data, vert=False, whis=[2.5, 97.5], widths=box_width, showfliers=False, patch_artist=True, positions=positions)\n",
    "plt.yticks(group_positions+0.5*group_width, labels)\n",
    "ax = fig.get_axes()[0]\n",
    "\n",
    "for i, (box_patch, median_patch) in enumerate(zip(box['boxes'], box['medians'])):\n",
    "    box_patch.set_facecolor(_colors['west'] if i%2 == 1 else _colors['east'])\n",
    "    box_patch.set_linewidth(0)\n",
    "    median_patch.set_color(\"white\")\n",
    "    median_patch.set_linewidth(2)\n",
    "    \n",
    "    whisk_patch_left = box['whiskers'][i*2]\n",
    "    whisk_patch_right = box['whiskers'][i*2+1]\n",
    "    whisk_patch_left.set_color(_colors['west'] if i%2 == 1 else _colors['east'])\n",
    "    whisk_patch_right.set_color(_colors['west'] if i%2 == 1 else _colors['east'])\n",
    "\n",
    "    caps_patch_left = box['caps'][i*2]\n",
    "    caps_patch_right = box['caps'][i*2+1]\n",
    "    caps_patch_left.set_color(_colors['west'] if i%2 == 1 else _colors['east'])\n",
    "    caps_patch_right.set_color(_colors['west'] if i%2 == 1 else _colors['east'])\n",
    "\n",
    "# for pos, diffs in enumerate(data):\n",
    "#     median = numpy.median(diffs)\n",
    "#     lowhisk = boxes['caps'][pos*2].get_xdata()[0]\n",
    "#     hiwhisk = boxes['caps'][pos*2+1].get_xdata()[0]\n",
    "    \n",
    "#     ax.text(median-8, pos+1.3, \"%4.0f\" % median, fontsize=10)\n",
    "#     ax.text(lowhisk-8, pos+1.3, \"%4.0f\" % lowhisk, fontsize=10)\n",
    "#     ax.text(hiwhisk-8, pos+1.3, \"%4.0f\" % hiwhisk, fontsize=10)\n",
    "\n",
    "#plt.xlim(-130,100)\n",
    "plt.xlabel(\"Age Difference\")\n",
    "sns.despine(trim=True)\n",
    "plt.ylim(-0.01,1.01)\n",
    "plt.savefig('../results/average_age_differences_by_relationship.pdf')"
   ]
  },
  {
   "cell_type": "code",
   "execution_count": null,
   "metadata": {
    "collapsed": false
   },
   "outputs": [],
   "source": []
  },
  {
   "cell_type": "code",
   "execution_count": null,
   "metadata": {
    "collapsed": true
   },
   "outputs": [],
   "source": []
  }
 ],
 "metadata": {
  "kernelspec": {
   "display_name": "Python 2",
   "language": "python",
   "name": "python2"
  },
  "language_info": {
   "codemirror_mode": {
    "name": "ipython",
    "version": 2
   },
   "file_extension": ".py",
   "mimetype": "text/x-python",
   "name": "python",
   "nbconvert_exporter": "python",
   "pygments_lexer": "ipython2",
   "version": "2.7.10"
  }
 },
 "nbformat": 4,
 "nbformat_minor": 0
}
