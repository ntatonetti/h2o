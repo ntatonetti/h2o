{
 "cells": [
  {
   "cell_type": "code",
   "execution_count": 2,
   "metadata": {
    "collapsed": false
   },
   "outputs": [],
   "source": [
    "import csv\n",
    "import gzip\n",
    "import time\n",
    "import numpy\n",
    "import random\n",
    "import operator\n",
    "from scipy import stats\n",
    "from collections import defaultdict\n",
    "\n",
    "import seaborn as sns\n",
    "import matplotlib.pyplot as plt\n",
    "\n",
    "%matplotlib inline"
   ]
  },
  {
   "cell_type": "code",
   "execution_count": 3,
   "metadata": {
    "collapsed": false
   },
   "outputs": [
    {
     "name": "stdout",
     "output_type": "stream",
     "text": [
      "Aunt/Uncle 0.25 6\n",
      "Grandnephew/Grandniece 0.0625 1\n",
      "Grandaunt/Granduncle 0.0625 1\n",
      "Parent 0.5 77\n",
      "Sibling 0.5 19\n",
      "Grandchild 0.25 3\n",
      "Child 0.5 78\n",
      "Grandparent 0.25 3\n",
      "Nephew/Niece 0.25 6\n"
     ]
    },
    {
     "data": {
      "text/plain": [
       "186"
      ]
     },
     "execution_count": 3,
     "metadata": {},
     "output_type": "execute_result"
    }
   ],
   "source": [
    "reader = csv.reader(open('../data/all_relationships_plink_maskedids.txt'), delimiter='\\t')\n",
    "reader.next()\n",
    "\n",
    "rels = defaultdict(dict)\n",
    "rel2dna = dict()\n",
    "individuals = set()\n",
    "\n",
    "for wid1, wid2, relationship, pihat, pred in reader:\n",
    "    relationship = relationship.strip()\n",
    "    if wid1 < wid2:\n",
    "        id1 = wid1\n",
    "        id2 = wid2\n",
    "    else:\n",
    "        id1 = wid2\n",
    "        id2 = wid1\n",
    "    individuals.add(wid1)\n",
    "    individuals.add(wid2)\n",
    "    rels[relationship][(id1, id2)] = (float(pred), float(pihat))\n",
    "    rel2dna[relationship] = float(pred)\n",
    "rels = dict(rels)\n",
    "for rel in rel2dna.keys():\n",
    "    print rel, rel2dna[rel], len(rels[rel])\n",
    "\n",
    "len(individuals)"
   ]
  },
  {
   "cell_type": "code",
   "execution_count": null,
   "metadata": {
    "collapsed": false
   },
   "outputs": [],
   "source": []
  },
  {
   "cell_type": "code",
   "execution_count": 5,
   "metadata": {
    "collapsed": false
   },
   "outputs": [
    {
     "name": "stdout",
     "output_type": "stream",
     "text": [
      "(0.64528652904421879, 6.2560629467620457e-14)\n",
      "0.416394704566\n"
     ]
    }
   ],
   "source": [
    "preds = list()\n",
    "sims = list()\n",
    "for rel in ('Nephew/Niece', 'Grandnephew/Grandniece', 'Child', 'Sibling', 'Grandchild'):\n",
    "    for (id1, id2) in rels[rel].keys():\n",
    "        preds.append(rels[rel][(id1,id2)][0])\n",
    "        sims.append(rels[rel][(id1,id2)][1])\n",
    "print stats.pearsonr(preds, sims)\n",
    "print stats.linregress(preds, sims).rvalue**2"
   ]
  },
  {
   "cell_type": "code",
   "execution_count": 7,
   "metadata": {
    "collapsed": false
   },
   "outputs": [],
   "source": [
    "relative_options = ['Parent', 'Child', 'Sibling', 'Grandparent', \n",
    "                    'Grandchild', 'Aunt/Uncle', 'Nephew/Niece', \n",
    "                    'Grandaunt/Granduncle', 'Grandnephew/Grandniece']"
   ]
  },
  {
   "cell_type": "code",
   "execution_count": 8,
   "metadata": {
    "collapsed": false
   },
   "outputs": [
    {
     "name": "stdout",
     "output_type": "stream",
     "text": [
      "                Relationship   Expected          N   Gen Mean +/-   SD        PPV\n",
      "                      Parent       0.50         77       0.49 +/- 0.03      1.000\n",
      "                       Child       0.50         78       0.49 +/- 0.03      1.000\n",
      "                     Sibling       0.50         19       0.59 +/- 0.23      0.684\n",
      "                 Grandparent       0.25          3       0.24 +/- 0.02      1.000\n",
      "                  Grandchild       0.25          3       0.24 +/- 0.02      1.000\n",
      "                  Aunt/Uncle       0.25          6       0.17 +/- 0.10      0.500\n",
      "                Nephew/Niece       0.25          6       0.17 +/- 0.10      0.500\n",
      "        Grandaunt/Granduncle       0.06          1       0.10 +/- 0.00      0.000\n",
      "      Grandnephew/Grandniece       0.06          1       0.10 +/- 0.00      0.000\n",
      "          Sibling (No twins)       0.50         15       0.49 +/- 0.11      0.867\n"
     ]
    }
   ],
   "source": [
    "print \"%28s %10s %10s %10s +/-%5s %10s\" % ('Relationship', 'Expected', 'N', 'Gen Mean', 'SD', 'PPV')\n",
    "for rel in relative_options:\n",
    "    gs = [v[1] for v in rels[rel].values()]\n",
    "    \n",
    "    ppv = sum([numpy.abs(s-rel2dna[rel])/rel2dna[rel] < 0.20 for s in gs])/float(len(gs))\n",
    "    print \"%28s %10.2f %10d %10.2f +/-%5.2f %10.3f\" % (rel, rel2dna[rel], len(gs), numpy.mean(gs), numpy.std(gs), ppv)\n",
    "\n",
    "# special row for removing twins from sibling relationships\n",
    "rel = 'Sibling'\n",
    "gs = [v[1] for v in rels[rel].values() if v[1] < 0.98]\n",
    "ppv = sum([numpy.abs(s-rel2dna[rel])/rel2dna[rel] < 0.20 for s in gs])/float(len(gs))\n",
    "print \"%28s %10.2f %10d %10.2f +/-%5.2f %10.3f\" % (\"Sibling (No twins)\", rel2dna[rel], len(gs), numpy.mean(gs), numpy.std(gs), ppv)"
   ]
  },
  {
   "cell_type": "code",
   "execution_count": 9,
   "metadata": {
    "collapsed": false
   },
   "outputs": [
    {
     "data": {
      "image/png": "[encoded data removed]",
      "text/plain": [
       "<matplotlib.figure.Figure at 0x11322efd0>"
      ]
     },
     "metadata": {},
     "output_type": "display_data"
    }
   ],
   "source": [
    "sns.set(style=\"ticks\", color_codes=True, font_scale=1.3, palette=\"muted\")\n",
    "\n",
    "plt.figure(figsize=(4.5,3))\n",
    "data = list()\n",
    "names = list()\n",
    "pos = 1\n",
    "for rel in relative_options:\n",
    "    if rel in ('Parent', 'Grandchild', 'Nephew/Niece', 'Grandnephew/Grandniece'):\n",
    "        continue\n",
    "    \n",
    "    rs = [v[1] for v in rels[rel].values()]\n",
    "    if len(rs) < 1:\n",
    "        continue\n",
    "    \n",
    "    data.append( rs )\n",
    "    #names.append( \"(%.2f) %s\" % (rel2dna[rel], rel if not rel.startswith('First') else '1st Cousin Once Rem') )\n",
    "    name = rel\n",
    "    if rel == 'Child':\n",
    "        name = 'Parent/Child'\n",
    "    if rel == 'Grandparent':\n",
    "        name = 'Grandparent/\\nGrandchild'\n",
    "    if rel == 'Aunt/Uncle':\n",
    "        name = 'Aunt/Uncle/\\nNiece/Nephew'\n",
    "    if rel == 'Grandaunt/Granduncle':\n",
    "        name = 'Grandaunt(uncle)/\\nGrandnephew(niece)'\n",
    "    \n",
    "    names.append( name )\n",
    "    jitter = numpy.random.normal(0, .1, size=(len(rs),))\n",
    "    \n",
    "    plt.scatter(numpy.array(rs), numpy.array([pos]*len(rs))+jitter, color='k', alpha=0.7)\n",
    "    pos += 1\n",
    "\n",
    "plt.boxplot(data, widths=0.8, vert=False)\n",
    "\n",
    "r, pval = stats.pearsonr(preds, sims)\n",
    "plt.text(0.22, len(data), r\"$N=%d, r=%.2f, p=%.2e$\" % (len(sims), r, pval), fontsize=12)\n",
    "\n",
    "ymin, ymax = plt.ylim()\n",
    "plt.ylim(ymax, ymin)\n",
    "\n",
    "plt.xticks([0, 0.25, 0.5, 0.75, 1.0])\n",
    "plt.yticks(range(1,len(names)+1), names)\n",
    "plt.xlabel(r\"Genetic Relatedness ($\\hat{\\pi}$)\")\n",
    "sns.despine(trim=False)\n",
    "plt.savefig('../results/wicerigm_genotypes_compare.pdf')\n",
    "# plt.tight_layout()"
   ]
  },
  {
   "cell_type": "code",
   "execution_count": 10,
   "metadata": {
    "collapsed": false
   },
   "outputs": [
    {
     "name": "stdout",
     "output_type": "stream",
     "text": [
      "(0.64528652904421879, 6.2560629467620457e-14)\n",
      "0.416394704566\n"
     ]
    }
   ],
   "source": [
    "print stats.pearsonr(preds, sims)\n",
    "print stats.linregress(preds, sims).rvalue**2"
   ]
  },
  {
   "cell_type": "code",
   "execution_count": null,
   "metadata": {
    "collapsed": true
   },
   "outputs": [],
   "source": []
  }
 ],
 "metadata": {
  "kernelspec": {
   "display_name": "Python 2",
   "language": "python",
   "name": "python2"
  },
  "language_info": {
   "codemirror_mode": {
    "name": "ipython",
    "version": 2
   },
   "file_extension": ".py",
   "mimetype": "text/x-python",
   "name": "python",
   "nbconvert_exporter": "python",
   "pygments_lexer": "ipython2",
   "version": "2.7.11"
  }
 },
 "nbformat": 4,
 "nbformat_minor": 0
}
